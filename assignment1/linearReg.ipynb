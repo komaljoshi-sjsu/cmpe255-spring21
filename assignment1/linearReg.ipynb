{
 "cells": [
  {
   "cell_type": "code",
   "execution_count": 1,
   "metadata": {},
   "outputs": [],
   "source": [
    "import pandas as pd\n",
    "import numpy as np\n",
    "import matplotlib.pyplot as plt\n",
    "from sklearn.datasets import load_boston\n",
    "from sklearn.linear_model import LinearRegression\n",
    "from sklearn.preprocessing import PolynomialFeatures\n",
    "from sklearn.pipeline import make_pipeline\n",
    "from sklearn.model_selection import train_test_split\n",
    "from sklearn.metrics import mean_squared_error\n",
    "from sklearn.metrics import r2_score"
   ]
  },
  {
   "cell_type": "code",
   "execution_count": 2,
   "metadata": {},
   "outputs": [
    {
     "name": "stdout",
     "output_type": "stream",
     "text": [
      "Index(['CRIM', 'ZN', 'INDUS', 'CHAS', 'NOX', 'RM', 'AGE', 'DIS', 'RAD', 'TAX',\n",
      "       'PTRATIO', 'B', 'LSTAT'],\n",
      "      dtype='object')\n"
     ]
    }
   ],
   "source": [
    "boston = load_boston()\n",
    "df_data = pd.DataFrame(boston.data,columns=boston.feature_names)\n",
    "df_target = pd.DataFrame(boston.target)\n",
    "n = len(df_data)\n",
    "n_test = int(0.2*n)\n",
    "n_train = n - n_test\n",
    "\n",
    "df_target_train = df_target.iloc[:n_train].copy()\n",
    "df_target_test = df_target.iloc[n_train:].copy()\n",
    "\n",
    "print((df_data.columns))"
   ]
  },
  {
   "cell_type": "code",
   "execution_count": 3,
   "metadata": {},
   "outputs": [],
   "source": [
    "def split_train_test(data):\n",
    "    df_train = data.iloc[:n_train].copy()\n",
    "    df_test = data.iloc[n_train:].copy()\n",
    "    return df_train,df_test\n"
   ]
  },
  {
   "cell_type": "code",
   "execution_count": 4,
   "metadata": {},
   "outputs": [],
   "source": [
    "reg = LinearRegression()\n",
    "poly = PolynomialFeatures(degree=2)\n",
    "poly_lin =  LinearRegression()"
   ]
  },
  {
   "cell_type": "code",
   "execution_count": 5,
   "metadata": {},
   "outputs": [],
   "source": [
    "def linear_reg(df_train):\n",
    "    reg.fit(df_train,df_target_train)"
   ]
  },
  {
   "cell_type": "code",
   "execution_count": 6,
   "metadata": {},
   "outputs": [],
   "source": [
    "def poly_reg(x):\n",
    "    df_train_poly_form = poly.fit_transform(x)\n",
    "    poly_lin.fit(df_train_poly_form,df_target_train.values)"
   ]
  },
  {
   "cell_type": "code",
   "execution_count": 7,
   "metadata": {},
   "outputs": [],
   "source": [
    "def predict(df_test):\n",
    "    return pd.DataFrame(reg.predict(df_test))"
   ]
  },
  {
   "cell_type": "code",
   "execution_count": 8,
   "metadata": {},
   "outputs": [],
   "source": [
    "def rmse(df_predict):\n",
    "    mse = mean_squared_error(df_target_test,df_predict)\n",
    "    return np.sqrt(mse)"
   ]
  },
  {
   "cell_type": "code",
   "execution_count": 9,
   "metadata": {},
   "outputs": [],
   "source": [
    "def r_sq_score(df_predict):\n",
    "    return r2_score(df_target_test, df_predict,multioutput='variance_weighted')"
   ]
  },
  {
   "cell_type": "code",
   "execution_count": 10,
   "metadata": {},
   "outputs": [],
   "source": [
    "final_rmse = None\n",
    "final_r2 = None\n",
    "final_df_predict = None\n",
    "final_df_test = None\n",
    "final_feature_name = None"
   ]
  },
  {
   "cell_type": "code",
   "execution_count": 11,
   "metadata": {},
   "outputs": [],
   "source": [
    "def plot(final_rmse,final_r2,final_df_predict,final_df_test,final_feature_name):\n",
    "    print('Most optimum col is: '+final_feature_name)\n",
    "    print('R-Squared Value is: '+str(final_r2))\n",
    "    print('RMSE Value is: '+str(final_rmse))\n",
    "    plt.scatter(final_df_test,df_target_test)\n",
    "    plt.plot(final_df_test,final_df_predict,color='red')\n",
    "    plt.title(\"Scatter Plot of test data and predicted value\")\n",
    "    plt.xlabel(final_feature_name)\n",
    "    plt.ylabel(\"MEDV\")\n",
    "    plt.show()"
   ]
  },
  {
   "cell_type": "code",
   "execution_count": 12,
   "metadata": {},
   "outputs": [],
   "source": [
    "def start_lin_reg() :\n",
    "    global final_rmse \n",
    "    global final_r2 \n",
    "    global final_df_predict \n",
    "    global final_df_test\n",
    "    global final_feature_name\n",
    "    for col in df_data.columns.values :\n",
    "        df_x = df_data[col].copy().to_frame(col)\n",
    "\n",
    "        df_x_train, df_x_test = split_train_test(df_x)\n",
    "        linear_reg(df_x_train)\n",
    "\n",
    "        df_y_predict = predict(df_x_test)\n",
    "        rmseVal = rmse(df_y_predict)\n",
    "        r2 = r_sq_score(df_y_predict)\n",
    "\n",
    "        if final_r2 == None or (r2>final_r2):\n",
    "            final_r2 = r2\n",
    "            final_df_test = df_x_test.values\n",
    "            final_df_predict = df_y_predict.values\n",
    "            final_feature_name = col\n",
    "            final_rmse =  rmseVal\n",
    "    plot(final_rmse,final_r2,final_df_predict,final_df_test,final_feature_name)"
   ]
  },
  {
   "cell_type": "code",
   "execution_count": 13,
   "metadata": {},
   "outputs": [],
   "source": [
    "def start_poly_reg():\n",
    "    df_x = (df_data[final_feature_name].copy()).to_frame(final_feature_name)\n",
    "    df_x_train, df_x_test = split_train_test(df_x)\n",
    "\n",
    "    poly_reg(df_x_train.values)\n",
    "    \n",
    "    x_poly = poly.fit_transform(df_x_test.values)\n",
    "    y_predict = poly_lin.predict(x_poly)\n",
    "\n",
    "    df_y_predict = pd.DataFrame(y_predict)\n",
    "    rmseVal = rmse(df_y_predict)\n",
    "    r2 = r_sq_score(df_y_predict)\n",
    "\n",
    "    plot(rmseVal,r2,y_predict,df_x_test.values,final_feature_name)"
   ]
  },
  {
   "cell_type": "code",
   "execution_count": 14,
   "metadata": {},
   "outputs": [
    {
     "name": "stdout",
     "output_type": "stream",
     "text": [
      "Most optimum col is: LSTAT\n",
      "R-Squared Value is: 0.1267686994684042\n",
      "RMSE Value is: 4.818480101222461\n"
     ]
    },
    {
     "data": {
      "image/png": "[encoded data removed]",
      "text/plain": [
       "<Figure size 432x288 with 1 Axes>"
      ]
     },
     "metadata": {
      "needs_background": "light"
     },
     "output_type": "display_data"
    }
   ],
   "source": [
    "start_lin_reg()"
   ]
  },
  {
   "cell_type": "code",
   "execution_count": 15,
   "metadata": {},
   "outputs": [
    {
     "name": "stdout",
     "output_type": "stream",
     "text": [
      "Most optimum col is: LSTAT\n",
      "R-Squared Value is: 0.3214431357099884\n",
      "RMSE Value is: 4.247550458329632\n"
     ]
    },
    {
     "data": {
      "image/png": "[encoded data removed]",
      "text/plain": [
       "<Figure size 432x288 with 1 Axes>"
      ]
     },
     "metadata": {
      "needs_background": "light"
     },
     "output_type": "display_data"
    }
   ],
   "source": [
    "start_poly_reg()"
   ]
  },
  {
   "cell_type": "code",
   "execution_count": 158,
   "metadata": {},
   "outputs": [],
   "source": [
    "def multiple_regression():\n",
    "    df_x, df_x_test_temp = split_train_test(df_data)\n",
    "    df_x_cor = df_x.copy()\n",
    "    df_x_cor['MEDV'] = df_target_train\n",
    "    cor = df_x_cor.corr().abs()['MEDV']\n",
    "    cor = cor.sort_values(ascending=False)\n",
    "    new_cor = cor.drop(labels = ['MEDV']).head(3)\n",
    "    \n",
    "    df_x = pd.DataFrame()\n",
    "    df_x_test = pd.DataFrame()\n",
    "    \n",
    "    for index, value in new_cor.items():\n",
    "        df_x[index] = df_x_cor[index]\n",
    "        df_x_test[index] = df_x_test_temp[index]\n",
    "        print(index)\n",
    "    \n",
    "    print(df_x.head(3))\n",
    "    print(len(df_x_test))\n",
    "    \n",
    "    linear_reg(df_x)\n",
    "    \n",
    "    df_y_predict = predict(df_x_test)\n",
    "    \n",
    "    rmseVal = rmse(df_y_predict)\n",
    "    r2 = r_sq_score(df_y_predict)\n",
    "    ind_var = 4; #p\n",
    "    sample_size = len(df_x) #n\n",
    "    \n",
    "    adjusted_r2 = 1 - ((1-r2**2) * (sample_size - 1)/(sample_size-ind_var-1))\n",
    "    print(\"RMSE: \",rmseVal)\n",
    "    print(\"R2: \",r2)\n",
    "    print(\"Adjusted R2: \",adjusted_r2)"
   ]
  },
  {
   "cell_type": "code",
   "execution_count": 159,
   "metadata": {},
   "outputs": [
    {
     "name": "stdout",
     "output_type": "stream",
     "text": [
      "RM\n",
      "LSTAT\n",
      "PTRATIO\n",
      "      RM  LSTAT  PTRATIO\n",
      "0  6.575   4.98     15.3\n",
      "1  6.421   9.14     17.8\n",
      "2  7.185   4.03     17.8\n",
      "101\n",
      "RMSE:  5.212449359859007\n",
      "R2:  -0.021863418474038276\n",
      "Adjusted R2:  -0.009517210841955448\n"
     ]
    }
   ],
   "source": [
    "multiple_regression()"
   ]
  },
  {
   "cell_type": "code",
   "execution_count": null,
   "metadata": {},
   "outputs": [],
   "source": []
  }
 ],
 "metadata": {
  "file_extension": ".py",
  "kernelspec": {
   "display_name": "Python 3.9.1 64-bit ('lab1': pipenv)",
   "language": "python",
   "name": "python39164bitlab1pipenv28be2de50ba34e49a388d4151f502f8f"
  },
  "language_info": {
   "codemirror_mode": {
    "name": "ipython",
    "version": 3
   },
   "file_extension": ".py",
   "mimetype": "text/x-python",
   "name": "python",
   "nbconvert_exporter": "python",
   "pygments_lexer": "ipython3",
   "version": "3.9.1"
  },
  "mimetype": "text/x-python",
  "name": "python",
  "npconvert_exporter": "python",
  "pygments_lexer": "ipython3",
  "version": 3
 },
 "nbformat": 4,
 "nbformat_minor": 2
}
