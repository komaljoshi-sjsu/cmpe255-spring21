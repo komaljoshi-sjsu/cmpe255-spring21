{
 "cells": [
  {
   "cell_type": "code",
   "execution_count": 79,
   "metadata": {},
   "outputs": [],
   "source": [
    "import numpy as np\n",
    "import os\n",
    "from sklearn.model_selection import cross_val_score\n",
    "from sklearn.datasets import fetch_openml\n",
    "from sklearn.linear_model import SGDClassifier\n",
    "np.random.seed(42)\n",
    "\n",
    "# To plot pretty figures\n",
    "import matplotlib as mpl\n",
    "import matplotlib.pyplot as plt\n",
    "mpl.rc('axes', labelsize=14)\n",
    "mpl.rc('xtick', labelsize=12)\n",
    "mpl.rc('ytick', labelsize=12)"
   ]
  },
  {
   "cell_type": "code",
   "execution_count": 80,
   "metadata": {},
   "outputs": [],
   "source": [
    "PROJECT_ROOT_DIR = \".\"\n",
    "IMAGE_DIR = \"images\"\n",
    "\n",
    "X=None\n",
    "y=None"
   ]
  },
  {
   "cell_type": "code",
   "execution_count": 81,
   "metadata": {},
   "outputs": [],
   "source": [
    "def sort_by_target(mnist):\n",
    "    reorder_index = np.array(sorted([(target, i) for i, target in enumerate(mnist.target)]))[:, 1]\n",
    "    mnist.data = mnist.data.iloc[reorder_index]\n",
    "    mnist.target= mnist.target[reorder_index]"
   ]
  },
  {
   "cell_type": "code",
   "execution_count": 82,
   "metadata": {},
   "outputs": [],
   "source": [
    "def load_and_sort():\n",
    "    global X\n",
    "    global y\n",
    "    mnist = fetch_openml('mnist_784', version=1,cache=True)\n",
    "    mnist.target = mnist.target.astype(np.int8)\n",
    "    sort_by_target(mnist)\n",
    "    X,y = mnist[\"data\"],mnist[\"target\"]\n",
    "    mnist[\"data\"], mnist[\"target\"]"
   ]
  },
  {
   "cell_type": "code",
   "execution_count": 83,
   "metadata": {},
   "outputs": [],
   "source": [
    "def random_digit(i):\n",
    "    some_digit = X.iloc[[i]] #taken ith entry of dataframe\n",
    "    some_digit_image = some_digit.values.reshape(28, 28)\n",
    "    plt.imshow(some_digit_image, cmap = mpl.cm.binary,\n",
    "            interpolation=\"nearest\")\n",
    "    plt.axis(\"off\")\n",
    "\n",
    "    #save_fig(\"some_digit_plot\")\n",
    "    plt.show()\n",
    "    return some_digit"
   ]
  },
  {
   "cell_type": "code",
   "execution_count": 84,
   "metadata": {},
   "outputs": [],
   "source": [
    "def train_predict(some_digit,index):\n",
    "    global sgd_clf\n",
    "    shuffle_index = np.random.permutation(60000)\n",
    "    X_train, y_train = X.iloc[:60000], y[:60000]\n",
    "\n",
    "    X_test, y_test = X.iloc[60000:], y[60000:]\n",
    "\n",
    "    X_train, y_train = X_train.iloc[shuffle_index],y_train.iloc[shuffle_index]\n",
    "    # Binary number 5 Classifier\n",
    "    y_train_5 = (y_train == 5)\n",
    "    y_test_5 = (y_test == 5)\n",
    "\n",
    "    \n",
    "    # print prediction result of the given input some_digit\n",
    "    sgd_clf = SGDClassifier(max_iter=20,tol=-np.infty)\n",
    "    sgd_clf.fit(X_train, y_train_5)\n",
    "\n",
    "    prediction = sgd_clf.predict(some_digit)\n",
    "    print(f'\\n\\nActual digit value = {y.iloc[index]} \\n Is this digit 5?  {prediction}')\n",
    "    score = cross_val_score(sgd_clf,X_train,y_train_5)\n",
    "    print(f'cross validation score is: {score}')\n"
   ]
  },
  {
   "cell_type": "code",
   "execution_count": 86,
   "metadata": {},
   "outputs": [],
   "source": [
    "\n",
    "load_and_sort()"
   ]
  },
  {
   "cell_type": "code",
   "execution_count": 87,
   "metadata": {},
   "outputs": [
    {
     "data": {
      "image/png": "[encoded data removed]",
      "image/svg+xml": "<?xml version=\"1.0\" encoding=\"utf-8\" standalone=\"no\"?>\n<!DOCTYPE svg PUBLIC \"-//W3C//DTD SVG 1.1//EN\"\n  \"http://www.w3.org/Graphics/SVG/1.1/DTD/svg11.dtd\">\n<!-- Created with matplotlib (https://matplotlib.org/) -->\n<svg height=\"231.84pt\" version=\"1.1\" viewBox=\"0 0 231.84 231.84\" width=\"231.84pt\" xmlns=\"http://www.w3.org/2000/svg\" xmlns:xlink=\"http://www.w3.org/1999/xlink\">\n <metadata>\n  <rdf:RDF xmlns:cc=\"http://creativecommons.org/ns#\" xmlns:dc=\"http://purl.org/dc/elements/1.1/\" xmlns:rdf=\"http://www.w3.org/1999/02/22-rdf-syntax-ns#\">\n   <cc:Work>\n    <dc:type rdf:resource=\"http://purl.org/dc/dcmitype/StillImage\"/>\n    <dc:date>2021-03-15T12:59:50.921309</dc:date>\n    <dc:format>image/svg+xml</dc:format>\n    <dc:creator>\n     <cc:Agent>\n      <dc:title>Matplotlib v3.3.4, https://matplotlib.org/</dc:title>\n     </cc:Agent>\n    </dc:creator>\n   </cc:Work>\n  </rdf:RDF>\n </metadata>\n <defs>\n  <style type=\"text/css\">*{stroke-linecap:butt;stroke-linejoin:round;}</style>\n </defs>\n <g id=\"figure_1\">\n  <g id=\"patch_1\">\n   <path d=\"M 0 231.84 \nL 231.84 231.84 \nL 231.84 0 \nL 0 0 \nz\n\" style=\"fill:none;\"/>\n  </g>\n  <g id=\"axes_1\">\n   <g clip-path=\"url(#p43dbf8aeff)\">\n    <image height=\"218\" id=\"imageda6739483c\" transform=\"scale(1 -1)translate(0 -218)\" width=\"218\" x=\"7.2\" xlink:href=\"data:image/png;base64,\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\" y=\"-6.64\"/>\n   </g>\n  </g>\n </g>\n <defs>\n  <clipPath id=\"p43dbf8aeff\">\n   <rect height=\"217.44\" width=\"217.44\" x=\"7.2\" y=\"7.2\"/>\n  </clipPath>\n </defs>\n</svg>\n",
      "text/plain": "<Figure size 432x288 with 1 Axes>"
     },
     "metadata": {
      "needs_background": "light"
     },
     "output_type": "display_data"
    }
   ],
   "source": [
    "somedigit = random_digit(15000)"
   ]
  },
  {
   "cell_type": "code",
   "execution_count": 88,
   "metadata": {},
   "outputs": [
    {
     "name": "stdout",
     "output_type": "stream",
     "text": "\n\nActual digit value = 2 \n Is this digit 5?  [False]\ncross validation score is: [0.95891667 0.96025    0.93275    0.95916667 0.96833333]\n"
    }
   ],
   "source": [
    "train_predict(somedigit,15000)"
   ]
  },
  {
   "cell_type": "code",
   "execution_count": null,
   "metadata": {},
   "outputs": [],
   "source": [
    "somedigit = random_digit(36000)\n",
    "prediction = sgd_clf.predict(somedigit)\n",
    "print(f'\\n\\nActual digit value = {y.iloc[36000]} \\n Is this digit 5?  {prediction}')"
   ]
  },
  {
   "cell_type": "code",
   "execution_count": null,
   "metadata": {},
   "outputs": [],
   "source": [
    "somedigit = random_digit(13000)\n",
    "prediction = sgd_clf.predict(somedigit)\n",
    "print(f'\\n\\nActual digit value = {y.iloc[13000]} \\n Is this digit 5?  {prediction}')\n"
   ]
  },
  {
   "cell_type": "code",
   "execution_count": null,
   "metadata": {},
   "outputs": [],
   "source": [
    "somedigit = random_digit(400)\n",
    "prediction = sgd_clf.predict(somedigit)\n",
    "print(f'\\n\\nActual digit value = {y.iloc[400]} \\n Is this digit 5?  {prediction}')"
   ]
  },
  {
   "cell_type": "code",
   "execution_count": null,
   "metadata": {},
   "outputs": [],
   "source": []
  }
 ],
 "metadata": {
  "file_extension": ".py",
  "kernelspec": {
   "display_name": "Python 3",
   "language": "python",
   "name": "python3"
  },
  "language_info": {
   "codemirror_mode": {
    "name": "ipython",
    "version": 3
   },
   "file_extension": ".py",
   "mimetype": "text/x-python",
   "name": "python",
   "nbconvert_exporter": "python",
   "pygments_lexer": "ipython3",
   "version": "3.9.1-final"
  },
  "mimetype": "text/x-python",
  "name": "python",
  "npconvert_exporter": "python",
  "pygments_lexer": "ipython3",
  "version": 3
 },
 "nbformat": 4,
 "nbformat_minor": 2
}